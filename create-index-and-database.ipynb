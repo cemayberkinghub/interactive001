{
 "cells": [
  {
   "cell_type": "markdown",
   "source": [
    "# Create ACS Index and Azure SQL Database for Avatar Demo\n",
    "Use this notebook to create an Azure Cognitive Search Index and an Azure SQL Database and populate demo content for the Avatar outdoor shop application.  \n",
    "\n",
    "Ensure that you have the the Microsoft ODBC driver for SQL Server installed. Here are the instructions for Linux based systems:  \n",
    "https://learn.microsoft.com/en-us/sql/connect/odbc/linux-mac/installing-the-microsoft-odbc-driver-for-sql-server?view=sql-server-ver16&tabs=ubuntu18-install%2Calpine17-install%2Cdebian8-install%2Credhat7-13-install%2Crhel7-offline#18\n"
   ],
   "metadata": {}
  },
  {
   "cell_type": "markdown",
   "source": [
    "## Setup"
   ],
   "metadata": {
    "nteract": {
     "transient": {
      "deleting": false
     }
    }
   }
  },
  {
   "cell_type": "code",
   "source": [
    "# Install the required libraries\n",
    "%pip install azure-search-documents==11.4.0b6 openai==0.28.1 tenacity pyodbc pandas"
   ],
   "metadata": {
    "gather": {
     "logged": 1700038369590
    },
    "ExecuteTime": {
     "end_time": "2024-10-14T13:47:06.994063Z",
     "start_time": "2024-10-14T13:46:02.577976Z"
    }
   },
   "outputs": [
    {
     "name": "stdout",
     "output_type": "stream",
     "text": [
      "Requirement already satisfied: azure-search-documents==11.4.0b6 in c:\\users\\ceayberk\\pycharmprojects\\azure-gencv\\.venv\\lib\\site-packages (11.4.0b6)\n",
      "Requirement already satisfied: openai==0.28.1 in c:\\users\\ceayberk\\pycharmprojects\\azure-gencv\\.venv\\lib\\site-packages (0.28.1)\n",
      "Requirement already satisfied: tenacity in c:\\users\\ceayberk\\pycharmprojects\\azure-gencv\\.venv\\lib\\site-packages (9.0.0)\n",
      "Requirement already satisfied: pyodbc in c:\\users\\ceayberk\\pycharmprojects\\azure-gencv\\.venv\\lib\\site-packages (5.1.0)\n",
      "Collecting pandas\n",
      "  Downloading pandas-2.2.3-cp311-cp311-win_amd64.whl.metadata (19 kB)\n",
      "Requirement already satisfied: azure-core<2.0.0,>=1.24.0 in c:\\users\\ceayberk\\pycharmprojects\\azure-gencv\\.venv\\lib\\site-packages (from azure-search-documents==11.4.0b6) (1.31.0)\n",
      "Requirement already satisfied: azure-common~=1.1 in c:\\users\\ceayberk\\pycharmprojects\\azure-gencv\\.venv\\lib\\site-packages (from azure-search-documents==11.4.0b6) (1.1.28)\n",
      "Requirement already satisfied: isodate>=0.6.0 in c:\\users\\ceayberk\\pycharmprojects\\azure-gencv\\.venv\\lib\\site-packages (from azure-search-documents==11.4.0b6) (0.7.2)\n",
      "Requirement already satisfied: requests>=2.20 in c:\\users\\ceayberk\\pycharmprojects\\azure-gencv\\.venv\\lib\\site-packages (from openai==0.28.1) (2.32.3)\n",
      "Requirement already satisfied: tqdm in c:\\users\\ceayberk\\pycharmprojects\\azure-gencv\\.venv\\lib\\site-packages (from openai==0.28.1) (4.66.5)\n",
      "Requirement already satisfied: aiohttp in c:\\users\\ceayberk\\pycharmprojects\\azure-gencv\\.venv\\lib\\site-packages (from openai==0.28.1) (3.10.10)\n",
      "Collecting numpy>=1.23.2 (from pandas)\n",
      "  Downloading numpy-2.1.2-cp311-cp311-win_amd64.whl.metadata (59 kB)\n",
      "Requirement already satisfied: python-dateutil>=2.8.2 in c:\\users\\ceayberk\\pycharmprojects\\azure-gencv\\.venv\\lib\\site-packages (from pandas) (2.9.0.post0)\n",
      "Collecting pytz>=2020.1 (from pandas)\n",
      "  Downloading pytz-2024.2-py2.py3-none-any.whl.metadata (22 kB)\n",
      "Collecting tzdata>=2022.7 (from pandas)\n",
      "  Downloading tzdata-2024.2-py2.py3-none-any.whl.metadata (1.4 kB)\n",
      "Requirement already satisfied: six>=1.11.0 in c:\\users\\ceayberk\\pycharmprojects\\azure-gencv\\.venv\\lib\\site-packages (from azure-core<2.0.0,>=1.24.0->azure-search-documents==11.4.0b6) (1.16.0)\n",
      "Requirement already satisfied: typing-extensions>=4.6.0 in c:\\users\\ceayberk\\pycharmprojects\\azure-gencv\\.venv\\lib\\site-packages (from azure-core<2.0.0,>=1.24.0->azure-search-documents==11.4.0b6) (4.12.2)\n",
      "Requirement already satisfied: charset-normalizer<4,>=2 in c:\\users\\ceayberk\\pycharmprojects\\azure-gencv\\.venv\\lib\\site-packages (from requests>=2.20->openai==0.28.1) (3.4.0)\n",
      "Requirement already satisfied: idna<4,>=2.5 in c:\\users\\ceayberk\\pycharmprojects\\azure-gencv\\.venv\\lib\\site-packages (from requests>=2.20->openai==0.28.1) (3.10)\n",
      "Requirement already satisfied: urllib3<3,>=1.21.1 in c:\\users\\ceayberk\\pycharmprojects\\azure-gencv\\.venv\\lib\\site-packages (from requests>=2.20->openai==0.28.1) (2.2.3)\n",
      "Requirement already satisfied: certifi>=2017.4.17 in c:\\users\\ceayberk\\pycharmprojects\\azure-gencv\\.venv\\lib\\site-packages (from requests>=2.20->openai==0.28.1) (2024.8.30)\n",
      "Requirement already satisfied: aiohappyeyeballs>=2.3.0 in c:\\users\\ceayberk\\pycharmprojects\\azure-gencv\\.venv\\lib\\site-packages (from aiohttp->openai==0.28.1) (2.4.3)\n",
      "Requirement already satisfied: aiosignal>=1.1.2 in c:\\users\\ceayberk\\pycharmprojects\\azure-gencv\\.venv\\lib\\site-packages (from aiohttp->openai==0.28.1) (1.3.1)\n",
      "Requirement already satisfied: attrs>=17.3.0 in c:\\users\\ceayberk\\pycharmprojects\\azure-gencv\\.venv\\lib\\site-packages (from aiohttp->openai==0.28.1) (24.2.0)\n",
      "Requirement already satisfied: frozenlist>=1.1.1 in c:\\users\\ceayberk\\pycharmprojects\\azure-gencv\\.venv\\lib\\site-packages (from aiohttp->openai==0.28.1) (1.4.1)\n",
      "Requirement already satisfied: multidict<7.0,>=4.5 in c:\\users\\ceayberk\\pycharmprojects\\azure-gencv\\.venv\\lib\\site-packages (from aiohttp->openai==0.28.1) (6.1.0)\n",
      "Requirement already satisfied: yarl<2.0,>=1.12.0 in c:\\users\\ceayberk\\pycharmprojects\\azure-gencv\\.venv\\lib\\site-packages (from aiohttp->openai==0.28.1) (1.15.2)\n",
      "Requirement already satisfied: colorama in c:\\users\\ceayberk\\pycharmprojects\\azure-gencv\\.venv\\lib\\site-packages (from tqdm->openai==0.28.1) (0.4.6)\n",
      "Requirement already satisfied: propcache>=0.2.0 in c:\\users\\ceayberk\\pycharmprojects\\azure-gencv\\.venv\\lib\\site-packages (from yarl<2.0,>=1.12.0->aiohttp->openai==0.28.1) (0.2.0)\n",
      "Downloading pandas-2.2.3-cp311-cp311-win_amd64.whl (11.6 MB)\n",
      "   ---------------------------------------- 0.0/11.6 MB ? eta -:--:--\n",
      "    --------------------------------------- 0.3/11.6 MB ? eta -:--:--\n",
      "   ---- ----------------------------------- 1.3/11.6 MB 4.5 MB/s eta 0:00:03\n",
      "   -------------- ------------------------- 4.2/11.6 MB 9.0 MB/s eta 0:00:01\n",
      "   -------------------------------- ------- 9.4/11.6 MB 14.3 MB/s eta 0:00:01\n",
      "   ---------------------------------------- 11.6/11.6 MB 14.8 MB/s eta 0:00:00\n",
      "Downloading numpy-2.1.2-cp311-cp311-win_amd64.whl (12.9 MB)\n",
      "   ---------------------------------------- 0.0/12.9 MB ? eta -:--:--\n",
      "   -------- ------------------------------- 2.9/12.9 MB 28.2 MB/s eta 0:00:01\n",
      "   -------- ------------------------------- 2.9/12.9 MB 28.2 MB/s eta 0:00:01\n",
      "   ----------------------------------- ---- 11.5/12.9 MB 18.5 MB/s eta 0:00:01\n",
      "   ---------------------------------------- 12.9/12.9 MB 15.5 MB/s eta 0:00:00\n",
      "Downloading pytz-2024.2-py2.py3-none-any.whl (508 kB)\n",
      "Downloading tzdata-2024.2-py2.py3-none-any.whl (346 kB)\n",
      "Installing collected packages: pytz, tzdata, numpy, pandas\n",
      "Successfully installed numpy-2.1.2 pandas-2.2.3 pytz-2024.2 tzdata-2024.2\n",
      "Note: you may need to restart the kernel to use updated packages.\n"
     ]
    }
   ],
   "execution_count": 3
  },
  {
   "cell_type": "code",
   "source": [
    "import os\n",
    "import json  \n",
    "import pandas as pd\n",
    "\n",
    "import pyodbc\n",
    "import requests\n",
    "import inspect\n",
    "\n",
    "import openai  \n",
    "from tenacity import retry, wait_random_exponential, stop_after_attempt  \n",
    "from azure.core.credentials import AzureKeyCredential  \n",
    "from azure.search.documents import SearchClient  \n",
    "from azure.search.documents.indexes import SearchIndexClient  \n",
    "from azure.search.documents.models import Vector  \n",
    "from azure.search.documents.indexes.models import (  \n",
    "    SearchIndex,  \n",
    "    SearchField,  \n",
    "    SearchFieldDataType,  \n",
    "    SimpleField,  \n",
    "    SearchableField,  \n",
    "    SearchIndex,  \n",
    "    SemanticConfiguration,  \n",
    "    PrioritizedFields,  \n",
    "    SemanticField,  \n",
    "    SearchField,  \n",
    "    SemanticSettings,  \n",
    "    VectorSearch,  \n",
    "    VectorSearchAlgorithmConfiguration,  \n",
    ")  "
   ],
   "metadata": {
    "gather": {
     "logged": 1700038372029
    },
    "ExecuteTime": {
     "end_time": "2024-10-14T13:47:41.637614Z",
     "start_time": "2024-10-14T13:47:36.275579Z"
    }
   },
   "outputs": [],
   "execution_count": 4
  },
  {
   "cell_type": "markdown",
   "source": [
    "You need to have the following settings for your Azure resources defined in the `local.settings.json` file in the __api__ subfolder to populate the demo content for the outdoor app:"
   ],
   "metadata": {
    "nteract": {
     "transient": {
      "deleting": false
     }
    }
   }
  },
  {
   "cell_type": "code",
   "source": [
    "# Load JSON file\n",
    "with open('./api/local.settings.json', 'r') as file:\n",
    "    data = json.load(file)\n",
    "\n",
    "# Azure Cognitive Search\n",
    "service_endpoint = data[\"Values\"][\"AZURE_SEARCH_ENDPOINT\"]\n",
    "key = data[\"Values\"][\"AZURE_SEARCH_API_KEY\"]\n",
    "index_name = data[\"Values\"][\"AZURE_SEARCH_INDEX\"]\n",
    "\n",
    "# Blob SAS URL for Azure Storage Account\n",
    "blob_sas_url = data[\"Values\"][\"BLOB_SAS_URL\"]\n",
    "\n",
    "# Azure OpenAI\n",
    "openai.api_type = \"azure\"\n",
    "openai.api_key = data[\"Values\"][\"AZURE_OPENAI_API_KEY\"]\n",
    "openai.api_base = data[\"Values\"][\"AZURE_OPENAI_ENDPOINT\"]\n",
    "openai.api_version = data[\"Values\"][\"AZURE_OPENAI_API_VERSION\"]\n",
    "AOAI_embeddings_deployment = data[\"Values\"][\"AZURE_OPENAI_EMBEDDINGS_DEPLOYMENT\"]\n",
    "\n",
    "# Azure SQL Database\n",
    "sql_db_server = data[\"Values\"][\"SQL_DB_SERVER\"]\n",
    "sql_db_user = data[\"Values\"][\"SQL_DB_USER\"]\n",
    "sql_db_password = data[\"Values\"][\"SQL_DB_PASSWORD\"]\n",
    "sql_db_name = data[\"Values\"][\"SQL_DB_NAME\"]"
   ],
   "metadata": {
    "jupyter": {
     "source_hidden": false,
     "outputs_hidden": false
    },
    "nteract": {
     "transient": {
      "deleting": false
     }
    },
    "gather": {
     "logged": 1700038375485
    },
    "ExecuteTime": {
     "end_time": "2024-10-14T13:48:17.081006Z",
     "start_time": "2024-10-14T13:48:17.073860Z"
    }
   },
   "outputs": [],
   "execution_count": 5
  },
  {
   "cell_type": "markdown",
   "source": [
    "## Create Cognitive Search Index\n",
    "First, we create a new Index with demo data to the Cognitive Search service that you have deployed manually."
   ],
   "metadata": {}
  },
  {
   "cell_type": "code",
   "source": [
    "credential = AzureKeyCredential(key)\n",
    "\n",
    "df = pd.read_csv('data/products_cs_index.csv', dtype={'id': str})\n",
    "display(df.head())\n",
    "input_data = df.to_dict(orient='records')"
   ],
   "metadata": {
    "gather": {
     "logged": 1699873170121
    },
    "jupyter": {
     "outputs_hidden": false,
     "source_hidden": false
    },
    "nteract": {
     "transient": {
      "deleting": false
     }
    },
    "ExecuteTime": {
     "end_time": "2024-10-14T13:49:43.253824Z",
     "start_time": "2024-10-14T13:49:43.198424Z"
    }
   },
   "outputs": [
    {
     "data": {
      "text/plain": [
       "     id category                 name  \\\n",
       "0  1000  outdoor      Elysian Voyager   \n",
       "1  1001  outdoor         Terra Roamer   \n",
       "2  1002  outdoor  Cardinal Pathfinder   \n",
       "3  1003  outdoor      Slumber Drifter   \n",
       "4  1004  outdoor     Blaze Adventurer   \n",
       "\n",
       "                                             tagline  \\\n",
       "0  The Ultimate 2-Person Travel Tent for the Mode...   \n",
       "1  The All-in-One Travel Backpack for Uncharted J...   \n",
       "2   The Ultimate Travel Compass for Modern Explorers   \n",
       "3  The Ultimate Lightweight Travel Sleeping Bag f...   \n",
       "4  The Future of Outdoor Cooking - The Portable T...   \n",
       "\n",
       "                                         description  original_price  \\\n",
       "0  Meet the Elysian Voyager, the pinnacle of outd...           850.0   \n",
       "1  Introducing the Terra Roamer, the embodiment o...           220.0   \n",
       "2  Discover the Cardinal Pathfinder, a revolution...            55.0   \n",
       "3  Introducing the Slumber Drifter, a game-change...            90.0   \n",
       "4  Presenting the Blaze Adventurer, a cutting-edg...            75.0   \n",
       "\n",
       "   special_offer       product_image_file  \n",
       "0         800.00      elysian-voyager.png  \n",
       "1         200.00         terra-roamer.png  \n",
       "2          49.99  cardinal-pathfinder.png  \n",
       "3          80.00      slumber-drifter.png  \n",
       "4          67.99     blaze-adventurer.png  "
      ],
      "text/html": [
       "<div>\n",
       "<style scoped>\n",
       "    .dataframe tbody tr th:only-of-type {\n",
       "        vertical-align: middle;\n",
       "    }\n",
       "\n",
       "    .dataframe tbody tr th {\n",
       "        vertical-align: top;\n",
       "    }\n",
       "\n",
       "    .dataframe thead th {\n",
       "        text-align: right;\n",
       "    }\n",
       "</style>\n",
       "<table border=\"1\" class=\"dataframe\">\n",
       "  <thead>\n",
       "    <tr style=\"text-align: right;\">\n",
       "      <th></th>\n",
       "      <th>id</th>\n",
       "      <th>category</th>\n",
       "      <th>name</th>\n",
       "      <th>tagline</th>\n",
       "      <th>description</th>\n",
       "      <th>original_price</th>\n",
       "      <th>special_offer</th>\n",
       "      <th>product_image_file</th>\n",
       "    </tr>\n",
       "  </thead>\n",
       "  <tbody>\n",
       "    <tr>\n",
       "      <th>0</th>\n",
       "      <td>1000</td>\n",
       "      <td>outdoor</td>\n",
       "      <td>Elysian Voyager</td>\n",
       "      <td>The Ultimate 2-Person Travel Tent for the Mode...</td>\n",
       "      <td>Meet the Elysian Voyager, the pinnacle of outd...</td>\n",
       "      <td>850.0</td>\n",
       "      <td>800.00</td>\n",
       "      <td>elysian-voyager.png</td>\n",
       "    </tr>\n",
       "    <tr>\n",
       "      <th>1</th>\n",
       "      <td>1001</td>\n",
       "      <td>outdoor</td>\n",
       "      <td>Terra Roamer</td>\n",
       "      <td>The All-in-One Travel Backpack for Uncharted J...</td>\n",
       "      <td>Introducing the Terra Roamer, the embodiment o...</td>\n",
       "      <td>220.0</td>\n",
       "      <td>200.00</td>\n",
       "      <td>terra-roamer.png</td>\n",
       "    </tr>\n",
       "    <tr>\n",
       "      <th>2</th>\n",
       "      <td>1002</td>\n",
       "      <td>outdoor</td>\n",
       "      <td>Cardinal Pathfinder</td>\n",
       "      <td>The Ultimate Travel Compass for Modern Explorers</td>\n",
       "      <td>Discover the Cardinal Pathfinder, a revolution...</td>\n",
       "      <td>55.0</td>\n",
       "      <td>49.99</td>\n",
       "      <td>cardinal-pathfinder.png</td>\n",
       "    </tr>\n",
       "    <tr>\n",
       "      <th>3</th>\n",
       "      <td>1003</td>\n",
       "      <td>outdoor</td>\n",
       "      <td>Slumber Drifter</td>\n",
       "      <td>The Ultimate Lightweight Travel Sleeping Bag f...</td>\n",
       "      <td>Introducing the Slumber Drifter, a game-change...</td>\n",
       "      <td>90.0</td>\n",
       "      <td>80.00</td>\n",
       "      <td>slumber-drifter.png</td>\n",
       "    </tr>\n",
       "    <tr>\n",
       "      <th>4</th>\n",
       "      <td>1004</td>\n",
       "      <td>outdoor</td>\n",
       "      <td>Blaze Adventurer</td>\n",
       "      <td>The Future of Outdoor Cooking - The Portable T...</td>\n",
       "      <td>Presenting the Blaze Adventurer, a cutting-edg...</td>\n",
       "      <td>75.0</td>\n",
       "      <td>67.99</td>\n",
       "      <td>blaze-adventurer.png</td>\n",
       "    </tr>\n",
       "  </tbody>\n",
       "</table>\n",
       "</div>"
      ]
     },
     "metadata": {},
     "output_type": "display_data"
    }
   ],
   "execution_count": 6
  },
  {
   "cell_type": "code",
   "source": [
    "@retry(wait=wait_random_exponential(min=1, max=20), stop=stop_after_attempt(6))\n",
    "# Function to generate embeddings for title and content fields, also used for query embeddings\n",
    "def generate_embeddings(text):\n",
    "    response = openai.Embedding.create(\n",
    "        input=text, engine=AOAI_embeddings_deployment)\n",
    "    embeddings = response['data'][0]['embedding']\n",
    "    return embeddings"
   ],
   "metadata": {
    "gather": {
     "logged": 1699873170374
    },
    "ExecuteTime": {
     "end_time": "2024-10-14T13:49:49.448243Z",
     "start_time": "2024-10-14T13:49:49.443218Z"
    }
   },
   "outputs": [],
   "execution_count": 7
  },
  {
   "cell_type": "code",
   "source": [
    "# Generate embeddings for title and content fields\n",
    "for item in input_data:\n",
    "    tagline = item['tagline']\n",
    "    description = item['description']\n",
    "    tagline_embeddings = generate_embeddings(tagline)\n",
    "    description_embeddings = generate_embeddings(description)\n",
    "    item['tagline_vector'] = tagline_embeddings\n",
    "    item['description_vector'] = description_embeddings"
   ],
   "metadata": {
    "jupyter": {
     "source_hidden": false,
     "outputs_hidden": false
    },
    "nteract": {
     "transient": {
      "deleting": false
     }
    },
    "gather": {
     "logged": 1699873171802
    },
    "ExecuteTime": {
     "end_time": "2024-10-14T13:50:04.335330Z",
     "start_time": "2024-10-14T13:49:54.062234Z"
    }
   },
   "outputs": [],
   "execution_count": 8
  },
  {
   "cell_type": "code",
   "source": [
    "# Output embeddings to docVectors.json file\n",
    "with open(\"./data/product-catalog-vectors.json\", \"w\") as f:\n",
    "    json.dump(input_data, f)"
   ],
   "metadata": {
    "gather": {
     "logged": 1699873171984
    },
    "ExecuteTime": {
     "end_time": "2024-10-14T13:50:12.337343Z",
     "start_time": "2024-10-14T13:50:12.201704Z"
    }
   },
   "outputs": [],
   "execution_count": 9
  },
  {
   "cell_type": "code",
   "source": [
    "# Delete ACS index if it exists\n",
    "index_client = SearchIndexClient(endpoint=service_endpoint, credential=credential)\n",
    "\n",
    "try:\n",
    "    if index_client.get_index(index_name):\n",
    "        print('Deleting existing index...')\n",
    "        index_client.delete_index(index_name)\n",
    "\n",
    "except:\n",
    "    print('Index does not exist. No need to delete it.')"
   ],
   "metadata": {
    "gather": {
     "logged": 1699873172252
    },
    "ExecuteTime": {
     "end_time": "2024-10-14T13:50:17.684165Z",
     "start_time": "2024-10-14T13:50:16.905914Z"
    }
   },
   "outputs": [
    {
     "name": "stdout",
     "output_type": "stream",
     "text": [
      "Index does not exist. No need to delete it.\n"
     ]
    }
   ],
   "execution_count": 10
  },
  {
   "cell_type": "code",
   "source": [
    "# Create a search index\n",
    "index_client = SearchIndexClient(endpoint=service_endpoint, credential=credential)\n",
    "\n",
    "fields = [\n",
    "    SimpleField(name=\"id\", type=SearchFieldDataType.String, key=True, sortable=True, filterable=True, facetable=True),\n",
    "    SearchableField(name=\"name\", type=SearchFieldDataType.String),\n",
    "    SearchableField(name=\"tagline\", type=SearchFieldDataType.String),\n",
    "    SearchableField(name=\"description\", type=SearchFieldDataType.String),\n",
    "    SimpleField(name=\"original_price\", type=SearchFieldDataType.Double),\n",
    "    SimpleField(name=\"special_offer\", type=SearchFieldDataType.Double),\n",
    "    SearchableField(name=\"category\", type=SearchFieldDataType.String, filterable=True),\n",
    "    SearchField(name=\"tagline_vector\", type=SearchFieldDataType.Collection(SearchFieldDataType.Single),\n",
    "                searchable=True, vector_search_dimensions=1536, vector_search_configuration=\"my-vector-config\"),\n",
    "    SearchField(name=\"description_vector\", type=SearchFieldDataType.Collection(SearchFieldDataType.Single),\n",
    "                searchable=True, vector_search_dimensions=1536, vector_search_configuration=\"my-vector-config\"),\n",
    "    SimpleField(name=\"product_image_file\", type=SearchFieldDataType.String),\n",
    "]\n",
    "\n",
    "vector_search = VectorSearch(\n",
    "    algorithm_configurations=[\n",
    "        VectorSearchAlgorithmConfiguration(\n",
    "            name=\"my-vector-config\",\n",
    "            kind=\"hnsw\",\n",
    "            hnsw_parameters={\n",
    "                \"m\": 4,\n",
    "                \"efConstruction\": 400,\n",
    "                \"efSearch\": 500,\n",
    "                \"metric\": \"cosine\"\n",
    "            }\n",
    "        )\n",
    "    ]\n",
    ")\n",
    "\n",
    "semantic_config = SemanticConfiguration(\n",
    "    name=\"my-semantic-config\",\n",
    "    prioritized_fields=PrioritizedFields(\n",
    "        title_field=SemanticField(field_name=\"tagline\"),\n",
    "        prioritized_keywords_fields=[SemanticField(field_name=\"category\")],\n",
    "        prioritized_content_fields=[SemanticField(field_name=\"description\")]\n",
    "    )\n",
    ")\n",
    "\n",
    "# Create the semantic settings with the configuration\n",
    "semantic_settings = SemanticSettings(configurations=[semantic_config])\n",
    "\n",
    "# Create the search index with the semantic settings\n",
    "index = SearchIndex(name=index_name, fields=fields,\n",
    "                    vector_search=vector_search, semantic_settings=semantic_settings)\n",
    "result = index_client.create_or_update_index(index)\n",
    "print(f' {result.name} created')"
   ],
   "metadata": {
    "gather": {
     "logged": 1699873172892
    },
    "ExecuteTime": {
     "end_time": "2024-10-14T13:51:06.704808Z",
     "start_time": "2024-10-14T13:51:05.190364Z"
    }
   },
   "outputs": [
    {
     "name": "stdout",
     "output_type": "stream",
     "text": [
      " products created\n"
     ]
    }
   ],
   "execution_count": 11
  },
  {
   "cell_type": "code",
   "source": [
    "# Upload documents to the index\n",
    "with open(\"./data/product-catalog-vectors.json\", 'r') as file:  \n",
    "    documents = json.load(file)  \n",
    "search_client = SearchClient(endpoint=service_endpoint, index_name=index_name, credential=credential)\n",
    "result = search_client.upload_documents(documents)  \n",
    "print(f\"Uploaded {len(documents)} documents\") "
   ],
   "metadata": {
    "gather": {
     "logged": 1699873173454
    },
    "ExecuteTime": {
     "end_time": "2024-10-14T13:54:10.128879Z",
     "start_time": "2024-10-14T13:54:08.404848Z"
    }
   },
   "outputs": [
    {
     "name": "stdout",
     "output_type": "stream",
     "text": [
      "Uploaded 19 documents\n"
     ]
    }
   ],
   "execution_count": 13
  },
  {
   "cell_type": "markdown",
   "source": [
    "## Perform Test Queries\n",
    "We are performing a few test queries against the Cognitive Search index. If successful, it should display outdoor product information and images."
   ],
   "metadata": {
    "nteract": {
     "transient": {
      "deleting": false
     }
    }
   }
  },
  {
   "cell_type": "code",
   "source": [
    "search_client = SearchClient(service_endpoint, index_name, credential=credential)  \n",
    "fields_of_interest = [\"id\", \"name\", \"tagline\", \"description\", \"original_price\", \"special_offer\", \"category\", \"product_image_file\"]"
   ],
   "metadata": {
    "gather": {
     "logged": 1699873173581
    },
    "ExecuteTime": {
     "end_time": "2024-10-14T13:54:25.922348Z",
     "start_time": "2024-10-14T13:54:25.915357Z"
    }
   },
   "outputs": [],
   "execution_count": 14
  },
  {
   "metadata": {
    "ExecuteTime": {
     "end_time": "2024-10-14T13:55:31.184823Z",
     "start_time": "2024-10-14T13:54:58.458143Z"
    }
   },
   "cell_type": "code",
   "source": "%pip install matplotlib",
   "outputs": [
    {
     "name": "stdout",
     "output_type": "stream",
     "text": [
      "Collecting matplotlib\n",
      "  Downloading matplotlib-3.9.2-cp311-cp311-win_amd64.whl.metadata (11 kB)\n",
      "Collecting contourpy>=1.0.1 (from matplotlib)\n",
      "  Downloading contourpy-1.3.0-cp311-cp311-win_amd64.whl.metadata (5.4 kB)\n",
      "Collecting cycler>=0.10 (from matplotlib)\n",
      "  Downloading cycler-0.12.1-py3-none-any.whl.metadata (3.8 kB)\n",
      "Collecting fonttools>=4.22.0 (from matplotlib)\n",
      "  Downloading fonttools-4.54.1-cp311-cp311-win_amd64.whl.metadata (167 kB)\n",
      "Collecting kiwisolver>=1.3.1 (from matplotlib)\n",
      "  Downloading kiwisolver-1.4.7-cp311-cp311-win_amd64.whl.metadata (6.4 kB)\n",
      "Requirement already satisfied: numpy>=1.23 in c:\\users\\ceayberk\\pycharmprojects\\azure-gencv\\.venv\\lib\\site-packages (from matplotlib) (2.1.2)\n",
      "Requirement already satisfied: packaging>=20.0 in c:\\users\\ceayberk\\pycharmprojects\\azure-gencv\\.venv\\lib\\site-packages (from matplotlib) (24.1)\n",
      "Collecting pillow>=8 (from matplotlib)\n",
      "  Downloading pillow-10.4.0-cp311-cp311-win_amd64.whl.metadata (9.3 kB)\n",
      "Collecting pyparsing>=2.3.1 (from matplotlib)\n",
      "  Downloading pyparsing-3.2.0-py3-none-any.whl.metadata (5.0 kB)\n",
      "Requirement already satisfied: python-dateutil>=2.7 in c:\\users\\ceayberk\\pycharmprojects\\azure-gencv\\.venv\\lib\\site-packages (from matplotlib) (2.9.0.post0)\n",
      "Requirement already satisfied: six>=1.5 in c:\\users\\ceayberk\\pycharmprojects\\azure-gencv\\.venv\\lib\\site-packages (from python-dateutil>=2.7->matplotlib) (1.16.0)\n",
      "Downloading matplotlib-3.9.2-cp311-cp311-win_amd64.whl (7.8 MB)\n",
      "   ---------------------------------------- 0.0/7.8 MB ? eta -:--:--\n",
      "   - -------------------------------------- 0.3/7.8 MB ? eta -:--:--\n",
      "   ------ --------------------------------- 1.3/7.8 MB 3.9 MB/s eta 0:00:02\n",
      "   --------------------- ------------------ 4.2/7.8 MB 8.4 MB/s eta 0:00:01\n",
      "   ---------------------------------------- 7.8/7.8 MB 12.1 MB/s eta 0:00:00\n",
      "Downloading contourpy-1.3.0-cp311-cp311-win_amd64.whl (217 kB)\n",
      "Downloading cycler-0.12.1-py3-none-any.whl (8.3 kB)\n",
      "Downloading fonttools-4.54.1-cp311-cp311-win_amd64.whl (2.2 MB)\n",
      "   ---------------------------------------- 0.0/2.2 MB ? eta -:--:--\n",
      "   ---------------------------------------- 2.2/2.2 MB 25.0 MB/s eta 0:00:00\n",
      "Downloading kiwisolver-1.4.7-cp311-cp311-win_amd64.whl (56 kB)\n",
      "Downloading pillow-10.4.0-cp311-cp311-win_amd64.whl (2.6 MB)\n",
      "   ---------------------------------------- 0.0/2.6 MB ? eta -:--:--\n",
      "   ---------------------------------------- 2.6/2.6 MB 24.6 MB/s eta 0:00:00\n",
      "Downloading pyparsing-3.2.0-py3-none-any.whl (106 kB)\n",
      "Installing collected packages: pyparsing, pillow, kiwisolver, fonttools, cycler, contourpy, matplotlib\n",
      "Successfully installed contourpy-1.3.0 cycler-0.12.1 fonttools-4.54.1 kiwisolver-1.4.7 matplotlib-3.9.2 pillow-10.4.0 pyparsing-3.2.0\n",
      "Note: you may need to restart the kernel to use updated packages.\n"
     ]
    }
   ],
   "execution_count": 16
  },
  {
   "cell_type": "code",
   "source": [
    "import requests\n",
    "from matplotlib import pyplot as plt\n",
    "from io import BytesIO\n",
    "\n",
    "def display_image_from_blob(image_file):\n",
    "   \n",
    "  # Append the image name to the SAS URL\n",
    "  image_url = blob_sas_url.split(\"?\")[0] + f\"/{image_file}?\" + blob_sas_url.split(\"?\")[1]\n",
    "\n",
    "  # Get the image content\n",
    "  response = requests.get(image_url)\n",
    "\n",
    "  # Check if the request was successful\n",
    "  if response.status_code == 200:\n",
    "      # Open the image and display it\n",
    "      img = plt.imread(BytesIO(response.content))\n",
    "      plt.imshow(img)\n",
    "      plt.axis('off') # No axes for this plot\n",
    "      plt.show()\n",
    "  else:\n",
    "      print(f\"Failed to retrieve image. HTTP Status code: {response.status_code}\")\n",
    "\n",
    "def print_results(results):  \n",
    "  for result in results:  \n",
    "    print(f\"Score: {result['@search.score']}\")\n",
    "    print(f\"Name: {result['name']}\")  \n",
    "    print(f\"Category: {result['category']}\")\n",
    "    print(f\"Tagline: {result['tagline']}\")\n",
    "    print(f\"Description: {result['description'][:50]}\")\n",
    "    print(f\"Original price: {result['original_price']}\")\n",
    "    print(f\"Special offer: {result['special_offer']}\")\n",
    "    print(f\"Image file: {result['product_image_file']}\\n\")\n",
    "    display_image_from_blob(result['product_image_file'])\n",
    "\n",
    "\n",
    "# Pure Vector Search with Filter\n",
    "query = \"tent for two people\"  \n",
    " \n",
    "results = search_client.search(  \n",
    "    search_text=None,  \n",
    "    vector=generate_embeddings(query), top_k=3,  \n",
    "    vector_fields=\"description_vector\",\n",
    "    filter=\"category eq 'outdoor'\",\n",
    "    select= fields_of_interest\n",
    ")  \n",
    "  \n",
    "print_results(results)"
   ],
   "metadata": {
    "gather": {
     "logged": 1699873175487
    },
    "ExecuteTime": {
     "end_time": "2024-10-14T13:56:04.792633Z",
     "start_time": "2024-10-14T13:55:54.832996Z"
    }
   },
   "outputs": [
    {
     "name": "stdout",
     "output_type": "stream",
     "text": [
      "Score: 0.8345069\n",
      "Name: Elysian Voyager\n",
      "Category: outdoor\n",
      "Tagline: The Ultimate 2-Person Travel Tent for the Modern Adventurer\n",
      "Description: Meet the Elysian Voyager, the pinnacle of outdoor \n",
      "Original price: 850.0\n",
      "Special offer: 800.0\n",
      "Image file: elysian-voyager.png\n",
      "\n",
      "Failed to retrieve image. HTTP Status code: 403\n",
      "Score: 0.8086023\n",
      "Name: Slumber Drifter\n",
      "Category: outdoor\n",
      "Tagline: The Ultimate Lightweight Travel Sleeping Bag for Every Adventure\n",
      "Description: Introducing the Slumber Drifter, a game-changer in\n",
      "Original price: 90.0\n",
      "Special offer: 80.0\n",
      "Image file: slumber-drifter.png\n",
      "\n",
      "Failed to retrieve image. HTTP Status code: 403\n",
      "Score: 0.80493224\n",
      "Name: Terra Roamer\n",
      "Category: outdoor\n",
      "Tagline: The All-in-One Travel Backpack for Uncharted Journeys\n",
      "Description: Introducing the Terra Roamer, the embodiment of fr\n",
      "Original price: 220.0\n",
      "Special offer: 200.0\n",
      "Image file: terra-roamer.png\n",
      "\n",
      "Failed to retrieve image. HTTP Status code: 403\n"
     ]
    }
   ],
   "execution_count": 17
  },
  {
   "cell_type": "markdown",
   "source": [
    "## Create Azure SQL Database\n",
    "Now we are creating a small Azure SQL Database with customer, products and order data using the SQL Server that you have deployed manually."
   ],
   "metadata": {}
  },
  {
   "cell_type": "code",
   "source": [
    "# Connection Strings\n",
    "server_connection_string = f\"Driver={{ODBC Driver 17 for SQL Server}};Server=tcp:{sql_db_server},1433;Uid={sql_db_user};Pwd={sql_db_password};Encrypt=yes;TrustServerCertificate=no;Connection Timeout=30;\"\n",
    "database_connection_string = server_connection_string + f\"Database={sql_db_name};\""
   ],
   "metadata": {
    "gather": {
     "logged": 1699873175635
    },
    "ExecuteTime": {
     "end_time": "2024-10-14T14:38:21.925163Z",
     "start_time": "2024-10-14T14:38:21.913005Z"
    }
   },
   "outputs": [],
   "execution_count": 45
  },
  {
   "cell_type": "code",
   "source": [
    "import random\n",
    "\n",
    "customers = [\n",
    "    {\"name\": \"John Doe\", \"account_id\": 1000, \"loyalty_points\" : random.randint(400, 800)},\n",
    "    {\"name\": \"Jane Smith\", \"account_id\": 1001, \"loyalty_points\" : random.randint(400, 800)},\n",
    "    {\"name\": \"Alice Johnson\", \"account_id\": 1002, \"loyalty_points\" : random.randint(400, 800)},\n",
    "    {\"name\": \"Bob Wilson\", \"account_id\": 1003, \"loyalty_points\" : random.randint(400, 800)},\n",
    "    {\"name\": \"Charlie Brown\", \"account_id\": 1004, \"loyalty_points\" : random.randint(400, 800)},\n",
    "    {\"name\": \"Eve Adams\", \"account_id\": 1005, \"loyalty_points\" : random.randint(400, 800)},\n",
    "    {\"name\": \"Frank Castle\", \"account_id\": 1006, \"loyalty_points\" : random.randint(400, 800)},\n",
    "    {\"name\": \"Grace Lee\", \"account_id\": 1007, \"loyalty_points\" : random.randint(400, 800)},\n",
    "    {\"name\": \"Hannah Montan\", \"account_id\": 1008, \"loyalty_points\" : random.randint(400, 800)},\n",
    "    {\"name\": \"Ian Somerhalder\", \"account_id\": 1009, \"loyalty_points\" : random.randint(400, 800)},\n",
    "    {\"name\": \"Peter Mick\", \"account_id\": 1010, \"loyalty_points\" : random.randint(400, 800)},\n",
    "]\n",
    "\n",
    "products = [\n",
    "    {\"id\": 1000, \"name\": \"Elysian Voyager\", \"stock\": random.randint(0,50)},\n",
    "    {\"id\": 1001, \"name\": \"Terra Roamer\", \"stock\": random.randint(0,50)},\n",
    "    {\"id\": 1002, \"name\": \"Cardinal Pathfinder\", \"stock\": random.randint(0,50)},\n",
    "    {\"id\": 1003, \"name\": \"Slumber Drifter\", \"stock\": random.randint(0,50)},\n",
    "    {\"id\": 1004, \"name\": \"Blaze Adventurer\", \"stock\": random.randint(0,50)},\n",
    "    {\"id\": 1005, \"name\": \"BiteShield Pro\", \"stock\": random.randint(0,50)},\n",
    "    {\"id\": 1006, \"name\": \"Feast Frontier\", \"stock\": random.randint(0,50)},\n",
    "    {\"id\": 1007, \"name\": \"Summit Stride\", \"stock\": random.randint(0,50)},\n",
    "    {\"id\": 1008, \"name\": \"Rugged Ranger\",\"stock\": random.randint(0,50)},\n",
    "    {\"id\": 1100, \"name\": \"Match Master\", \"stock\": random.randint(0,50)},\n",
    "    {\"id\": 1101, \"name\": \"Court Queen\", \"stock\": random.randint(0,50)},\n",
    "    {\"id\": 1102, \"name\": \"Junior Ace\", \"stock\": random.randint(0,50)},\n",
    "    {\"id\": 1103, \"name\": \"ServeMaster Pro\", \"stock\": random.randint(0,50)},\n",
    "    {\"id\": 1104, \"name\": \"Court Commander\", \"stock\": random.randint(0,50)},\n",
    "    {\"id\": 1105, \"name\": \"StringMaster Elite\", \"stock\": random.randint(0,50)},\n",
    "    {\"id\": 1106, \"name\": \"Court Conqueror\", \"stock\": random.randint(0,50)},\n",
    "    {\"id\": 1107, \"name\": \"AceMaster 3000\", \"stock\": random.randint(0,50)},\n",
    "    {\"id\": 1108, \"name\": \"Ace Attire\", \"stock\": random.randint(0,50)},\n",
    "    {\"id\": 1109, \"name\": \"Serve & Style\", \"stock\": random.randint(0,50)},\n",
    "]\n",
    "orders = [\n",
    "    {\"order_id\": 1000, \"product_id\": 1001, \"days_to_delivery\": random.randint(3,15), \"account_id\": 1000},\n",
    "    {\"order_id\": 1001, \"product_id\": 1001, \"days_to_delivery\": random.randint(3,15), \"account_id\": 1001},\n",
    "    {\"order_id\": 1002, \"product_id\": 1002, \"days_to_delivery\": random.randint(3,15), \"account_id\": 1002},\n",
    "    {\"order_id\": 1003, \"product_id\": 1003, \"days_to_delivery\": random.randint(3,15), \"account_id\": 1003},\n",
    "    {\"order_id\": 1004, \"product_id\": 1004, \"days_to_delivery\": random.randint(3,15), \"account_id\": 1004},\n",
    "    {\"order_id\": 1005, \"product_id\": 1005, \"days_to_delivery\": random.randint(3,15), \"account_id\": 1005},\n",
    "    {\"order_id\": 1006, \"product_id\": 1006, \"days_to_delivery\": random.randint(3,15), \"account_id\": 1006},\n",
    "    {\"order_id\": 1007, \"product_id\": 1007, \"days_to_delivery\": random.randint(3,15), \"account_id\": 1007},\n",
    "    {\"order_id\": 1008, \"product_id\": 1008, \"days_to_delivery\": random.randint(3,15), \"account_id\": 1008},\n",
    "    {\"order_id\": 1010, \"product_id\": 1000, \"days_to_delivery\": random.randint(3,15), \"account_id\": 1009},\n",
    "    {\"order_id\": 1012, \"product_id\": 1101, \"days_to_delivery\": random.randint(3,15), \"account_id\": 1001},\n",
    "    {\"order_id\": 1013, \"product_id\": 1102, \"days_to_delivery\": random.randint(3,15), \"account_id\": 1002},\n",
    "    {\"order_id\": 1014, \"product_id\": 1103, \"days_to_delivery\": random.randint(3,15), \"account_id\": 1003},\n",
    "    {\"order_id\": 1015, \"product_id\": 1104, \"days_to_delivery\": random.randint(3,15), \"account_id\": 1004},\n",
    "    {\"order_id\": 1016, \"product_id\": 1105, \"days_to_delivery\": random.randint(3,15), \"account_id\": 1005},\n",
    "    {\"order_id\": 1017, \"product_id\": 1106, \"days_to_delivery\": random.randint(3,15), \"account_id\": 1006},\n",
    "    {\"order_id\": 1018, \"product_id\": 1107, \"days_to_delivery\": random.randint(3,15), \"account_id\": 1007},\n",
    "    {\"order_id\": 1019, \"product_id\": 1108, \"days_to_delivery\": random.randint(3,15), \"account_id\": 1008},\n",
    "]"
   ],
   "metadata": {
    "gather": {
     "logged": 1699873175773
    },
    "ExecuteTime": {
     "end_time": "2024-10-14T14:38:30.649871Z",
     "start_time": "2024-10-14T14:38:30.628571Z"
    }
   },
   "outputs": [],
   "execution_count": 47
  },
  {
   "cell_type": "code",
   "source": [
    "# Test connection to the SQL Server\n",
    "\n",
    "try:\n",
    "    # Try to establish a connection\n",
    "    print(server_connection_string)\n",
    "    conn = pyodbc.connect(server_connection_string)\n",
    "    \n",
    "    # If connection is successful, print a message and close the connection\n",
    "    print(\"Connection to the server/database was successful!\")\n",
    "    conn.close()\n",
    "    \n",
    "except pyodbc.Error as ex:\n",
    "    # Catch any connection errors and print them\n",
    "    sqlstate = ex.args[0] if len(ex.args) > 0 else None\n",
    "    message = ex.args[1] if len(ex.args) > 1 else None\n",
    "    print(f\"Failed to connect to the server/database. SQLSTATE: {sqlstate}, Message: {message}\")"
   ],
   "metadata": {
    "gather": {
     "logged": 1699873175920
    },
    "ExecuteTime": {
     "end_time": "2024-10-14T14:38:39.427727Z",
     "start_time": "2024-10-14T14:38:34.846729Z"
    }
   },
   "outputs": [
    {
     "name": "stdout",
     "output_type": "stream",
     "text": [
      "Driver={ODBC Driver 17 for SQL Server};Server=tcp:sqldw001server.database.windows.net,1433;Uid=sqladmin;Pwd=P@ssw0rd.123!;Encrypt=yes;TrustServerCertificate=no;Connection Timeout=30;\n",
      "Connection to the server/database was successful!\n"
     ]
    }
   ],
   "execution_count": 48
  },
  {
   "cell_type": "code",
   "source": [
    "# SET TO TRUE ONLY TO REBUILD DATABASE BASED ON ABOVE SAMPLE DATA\n",
    "rebuild_database = True\n",
    "\n",
    "if rebuild_database:\n",
    "\n",
    "    # Connect to the server without specifying a database\n",
    "    server_conn = pyodbc.connect(server_connection_string, autocommit=True)\n",
    "    server_cursor = server_conn.cursor()\n",
    "\n",
    "    # Drop the database if it exists\n",
    "    server_cursor.execute(f\"IF EXISTS(SELECT * FROM sys.databases WHERE name='{sql_db_name}') DROP DATABASE {sql_db_name}\")\n",
    "\n",
    "    # Recreate the database\n",
    "    server_cursor.execute(f\"CREATE DATABASE {sql_db_name}\")\n",
    "    server_cursor.close()\n",
    "    server_conn.close()\n",
    "\n",
    "    # Now, connect to the newly created database\n",
    "    conn = pyodbc.connect(database_connection_string)\n",
    "    cursor = conn.cursor()\n",
    "\n",
    "    # Ensure you're using the existing database\n",
    "    cursor.execute(f\"USE {sql_db_name}\")\n",
    "\n",
    "    # Create tables and populate them\n",
    "    cursor.execute(\"\"\"\n",
    "    CREATE TABLE Customers (\n",
    "        name VARCHAR(255),\n",
    "        account_id INT PRIMARY KEY,\n",
    "        loyalty_points INT,\n",
    "    )\n",
    "    \"\"\")\n",
    "\n",
    "    for customer in customers:\n",
    "        cursor.execute(\"INSERT INTO Customers VALUES (?, ?, ?)\", \n",
    "                    (customer[\"name\"], customer[\"account_id\"], customer[\"loyalty_points\"]))\n",
    "\n",
    "    cursor.execute(\"\"\"\n",
    "    CREATE TABLE Products (\n",
    "        id INT PRIMARY KEY,\n",
    "        name VARCHAR(255),\n",
    "        stock INT\n",
    "    )\n",
    "    \"\"\")\n",
    "\n",
    "    for product in products:\n",
    "        cursor.execute(\"INSERT INTO Products VALUES (?, ?, ?)\", \n",
    "                    (product[\"id\"], product[\"name\"], product[\"stock\"]))\n",
    "\n",
    "    cursor.execute(\"\"\"\n",
    "    CREATE TABLE Orders (\n",
    "        order_id INT PRIMARY KEY,\n",
    "        product_id INT,\n",
    "        days_to_delivery INT,\n",
    "        account_id INT,\n",
    "        FOREIGN KEY(product_id) REFERENCES Products(id),\n",
    "        FOREIGN KEY(account_id) REFERENCES Customers(account_id)\n",
    "    )\n",
    "    \"\"\")\n",
    "\n",
    "    for order in orders:\n",
    "        cursor.execute(\"INSERT INTO Orders VALUES (?, ?, ?, ?)\", \n",
    "                    (order[\"order_id\"], order[\"product_id\"], order[\"days_to_delivery\"], order[\"account_id\"]))\n",
    "\n",
    "    conn.commit()\n",
    "\n",
    "    #Verify database tables and columns\n",
    "    def fetch_schema_info():\n",
    "        cursor.execute(\"\"\"\n",
    "            SELECT t.TABLE_NAME, c.COLUMN_NAME, c.DATA_TYPE \n",
    "            FROM INFORMATION_SCHEMA.TABLES AS t\n",
    "            JOIN INFORMATION_SCHEMA.COLUMNS AS c ON t.TABLE_NAME = c.TABLE_NAME\n",
    "            WHERE t.TABLE_SCHEMA = 'dbo'  -- assuming you're using the default schema\n",
    "            ORDER BY t.TABLE_NAME, c.ORDINAL_POSITION\n",
    "        \"\"\")\n",
    "        \n",
    "        tables = {}\n",
    "        for row in cursor.fetchall():\n",
    "            table_name = row[0]\n",
    "            column_name = row[1]\n",
    "            data_type = row[2]\n",
    "            \n",
    "            if table_name not in tables:\n",
    "                tables[table_name] = []\n",
    "            \n",
    "            tables[table_name].append(f\"{column_name} ({data_type})\")\n",
    "        \n",
    "        return tables\n",
    "\n",
    "    schema_info = fetch_schema_info()\n",
    "\n",
    "    # Print the schema info in a user-friendly format\n",
    "    for table, columns in schema_info.items():\n",
    "        print(f\"Table: {table}\")\n",
    "        for col in columns:\n",
    "            print(f\"    {col}\")\n",
    "        print()\n",
    "\n",
    "    # Close connections\n",
    "    cursor.close()\n",
    "    conn.close()"
   ],
   "metadata": {
    "gather": {
     "logged": 1699873247080
    },
    "ExecuteTime": {
     "end_time": "2024-10-14T14:40:24.763315Z",
     "start_time": "2024-10-14T14:38:45.584964Z"
    }
   },
   "outputs": [
    {
     "name": "stdout",
     "output_type": "stream",
     "text": [
      "Table: Customers\n",
      "    name (varchar)\n",
      "    account_id (int)\n",
      "    loyalty_points (int)\n",
      "\n",
      "Table: Orders\n",
      "    order_id (int)\n",
      "    product_id (int)\n",
      "    days_to_delivery (int)\n",
      "    account_id (int)\n",
      "\n",
      "Table: Products\n",
      "    id (int)\n",
      "    name (varchar)\n",
      "    stock (int)\n",
      "\n"
     ]
    }
   ],
   "execution_count": 49
  },
  {
   "cell_type": "code",
   "source": [],
   "outputs": [],
   "execution_count": null,
   "metadata": {}
  }
 ],
 "metadata": {
  "kernel_info": {
   "name": "python310-sdkv2"
  },
  "kernelspec": {
   "name": "python3",
   "language": "python",
   "display_name": "Python 3 (ipykernel)"
  },
  "language_info": {
   "name": "python",
   "version": "3.10.11",
   "mimetype": "text/x-python",
   "codemirror_mode": {
    "name": "ipython",
    "version": 3
   },
   "pygments_lexer": "ipython3",
   "nbconvert_exporter": "python",
   "file_extension": ".py"
  },
  "microsoft": {
   "ms_spell_check": {
    "ms_spell_check_language": "en"
   },
   "host": {
    "AzureML": {
     "notebookHasBeenCompleted": true
    }
   }
  },
  "nteract": {
   "version": "nteract-front-end@1.0.0"
  },
  "orig_nbformat": 4
 },
 "nbformat": 4,
 "nbformat_minor": 2
}
